{
 "cells": [
  {
   "cell_type": "code",
   "execution_count": 67,
   "id": "3def9f19-00a5-4c08-be65-439a7d3559a5",
   "metadata": {},
   "outputs": [
    {
     "name": "stdout",
     "output_type": "stream",
     "text": [
      "Requirement already satisfied: requests in c:\\users\\hp\\anaconda3\\lib\\site-packages (2.32.3)Note: you may need to restart the kernel to use updated packages.\n",
      "\n",
      "Requirement already satisfied: beautifulsoup4 in c:\\users\\hp\\anaconda3\\lib\\site-packages (4.12.3)\n",
      "Requirement already satisfied: pandas in c:\\users\\hp\\anaconda3\\lib\\site-packages (2.2.2)\n",
      "Requirement already satisfied: charset-normalizer<4,>=2 in c:\\users\\hp\\anaconda3\\lib\\site-packages (from requests) (3.3.2)\n",
      "Requirement already satisfied: idna<4,>=2.5 in c:\\users\\hp\\anaconda3\\lib\\site-packages (from requests) (3.7)\n",
      "Requirement already satisfied: urllib3<3,>=1.21.1 in c:\\users\\hp\\anaconda3\\lib\\site-packages (from requests) (2.5.0)\n",
      "Requirement already satisfied: certifi>=2017.4.17 in c:\\users\\hp\\anaconda3\\lib\\site-packages (from requests) (2025.8.3)\n",
      "Requirement already satisfied: soupsieve>1.2 in c:\\users\\hp\\anaconda3\\lib\\site-packages (from beautifulsoup4) (2.5)\n",
      "Requirement already satisfied: numpy>=1.26.0 in c:\\users\\hp\\anaconda3\\lib\\site-packages (from pandas) (1.26.4)\n",
      "Requirement already satisfied: python-dateutil>=2.8.2 in c:\\users\\hp\\anaconda3\\lib\\site-packages (from pandas) (2.9.0.post0)\n",
      "Requirement already satisfied: pytz>=2020.1 in c:\\users\\hp\\anaconda3\\lib\\site-packages (from pandas) (2024.1)\n",
      "Requirement already satisfied: tzdata>=2022.7 in c:\\users\\hp\\anaconda3\\lib\\site-packages (from pandas) (2023.3)\n",
      "Requirement already satisfied: six>=1.5 in c:\\users\\hp\\anaconda3\\lib\\site-packages (from python-dateutil>=2.8.2->pandas) (1.16.0)\n"
     ]
    }
   ],
   "source": [
    "pip install requests beautifulsoup4 pandas"
   ]
  },
  {
   "cell_type": "code",
   "execution_count": 69,
   "id": "fdb453cc-8d49-43b4-81bf-f36f0cd86c83",
   "metadata": {},
   "outputs": [],
   "source": [
    "import requests\n",
    "from bs4 import BeautifulSoup\n",
    "import pandas as pd"
   ]
  },
  {
   "cell_type": "code",
   "execution_count": 73,
   "id": "c758125e-348b-45ef-82ea-31282b865b56",
   "metadata": {},
   "outputs": [
    {
     "name": "stdout",
     "output_type": "stream",
     "text": [
      "Status Code: 403\n"
     ]
    }
   ],
   "source": [
    "url = \"https://www.imdb.com/chart/top/\"\n",
    "response = requests.get(url)\n",
    "\n",
    "# Check status\n",
    "print(\"Status Code:\", response.status_code)"
   ]
  },
  {
   "cell_type": "code",
   "execution_count": 75,
   "id": "4bf0c703-3000-41d0-aea3-7b6f317c80cc",
   "metadata": {},
   "outputs": [
    {
     "name": "stdout",
     "output_type": "stream",
     "text": [
      "Status Code: 200\n"
     ]
    }
   ],
   "source": [
    "url = \"https://www.imdb.com/chart/top/\"\n",
    "\n",
    "headers = {\n",
    "    \"User-Agent\": \"Mozilla/5.0 (Windows NT 10.0; Win64; x64) AppleWebKit/537.36 (KHTML, like Gecko) Chrome/120.0.0.0 Safari/537.36\"\n",
    "}\n",
    "\n",
    "response = requests.get(url, headers=headers)\n",
    "\n",
    "print(\"Status Code:\", response.status_code)"
   ]
  },
  {
   "cell_type": "code",
   "execution_count": 77,
   "id": "37f44062-dc96-461b-8623-d973ec5cfd19",
   "metadata": {},
   "outputs": [
    {
     "name": "stdout",
     "output_type": "stream",
     "text": [
      "IMDb Top 250 movies\n"
     ]
    }
   ],
   "source": [
    "soup = BeautifulSoup(response.text, \"html.parser\")\n",
    "\n",
    "# Just to check, print the page title\n",
    "print(soup.title.text)"
   ]
  },
  {
   "cell_type": "code",
   "execution_count": 79,
   "id": "8cefef46-d836-468f-ae9b-eb820d791454",
   "metadata": {},
   "outputs": [
    {
     "name": "stdout",
     "output_type": "stream",
     "text": [
      "Total movies found: 0\n",
      "[]\n"
     ]
    }
   ],
   "source": [
    "movies = soup.select(\"td.titleColumn\")\n",
    "ratings = soup.select(\"td.imdbRating strong\")\n",
    "\n",
    "data = []\n",
    "for movie, rating in zip(movies, ratings):\n",
    "    title = movie.a.text\n",
    "    year = movie.span.text.strip(\"()\")\n",
    "    rating = rating.text\n",
    "    data.append([title, year, rating])\n",
    "\n",
    "print(\"Total movies found:\", len(data))\n",
    "print(data[:5])  # show first 5 movies"
   ]
  },
  {
   "cell_type": "code",
   "execution_count": 81,
   "id": "2cf29578-35d4-4fc8-9e63-1be9a142ed36",
   "metadata": {},
   "outputs": [
    {
     "name": "stdout",
     "output_type": "stream",
     "text": [
      "<!DOCTYPE html>\n",
      "<html lang=\"en-US\" xmlns:fb=\"http://www.facebook.com/2008/fbml\" xmlns:og=\"http://opengraphprotocol.org/schema/\">\n",
      " <head>\n",
      "  <meta charset=\"utf-8\"/>\n",
      "  <meta content=\"width=device-width\" name=\"viewport\"/>\n",
      "  <script>\n",
      "   if(typeof uet === 'function'){ uet('bb', 'LoadTitle', {wb: 1}); }\n",
      "  </script>\n",
      "  <script>\n",
      "   window.addEventListener('load', (event) => {\n",
      "        if (typeof window.csa !== 'undefined' && typeof window.csa === 'function') {\n",
      "            var csaLatencyPlugin = window.csa('Content', {\n",
      "                element: {\n",
      "                    slotId: 'LoadTitle',\n",
      "                    type: 'service-call'\n",
      "                }\n",
      "            });\n",
      "            csaLatencyPlugin('mark', 'clickToBodyBegin', 1759218397900);\n",
      "        }\n",
      "    })\n",
      "  </script>\n",
      "  <title>\n",
      "   IMDb Top 250 movies\n",
      "  </title>\n",
      "  <meta content=\"As rated by regular IMDb voters.\" data-id=\"main\" name=\"description\"/>\n",
      "  <meta content=\"0cadf7898134e79b\" name=\"google-site-verification\"/>\n",
      "  <meta content=\"C1DACEF2769068C0B0D2687C9E5105FA\" name=\"msvalidate.01\"/>\n",
      "  <meta content=\"max-image-preview:large\" name=\"robots\"/>\n",
      "  <script type=\"application/ld+json\">\n",
      "   {\"@type\":\"ItemList\",\"itemListElement\":[{\"@type\":\"ListItem\",\"item\":{\"@type\":\"Movie\",\"url\":\"https://www.imdb.com/title/tt0111161/\",\"name\":\"The Shawshank Redemption\",\"description\":\"A banker convicted of uxoricide forms a friendship over a quarter century with a hardened convict, while maintaining his innocence and trying to remain hopeful through simple compassion.\",\"image\":\"https://m.media-amazon.com/images/M/MV5BMDAyY2FhYjctNDc5OS00MDNlLThiMGUtY2UxYWVkNGY2ZjljXkEyXkFqcGc@._V1_.jpg\",\"aggregateRating\":{\"@type\":\"AggregateRating\",\"bestRating\":10,\"worstRating\":1,\"ratingValue\":9.3,\"ratingCount\":3103969},\"contentRating\":\"A\",\"genre\":\"Drama\",\"duration\":\"PT2H22M\"}},{\"@type\":\"ListItem\",\"item\":{\"@type\":\"Movie\",\"url\":\"https://www.imdb.com/title/tt0068646/\",\"name\":\"The Godfather\",\"description\":\"The aging patriarch of an organized crime dynasty transfers control of his cla\n"
     ]
    }
   ],
   "source": [
    "print(soup.prettify()[:2000])  # show first 2000 characters of HTML"
   ]
  },
  {
   "cell_type": "code",
   "execution_count": 95,
   "id": "a69ee1c5-2c35-4f36-93bd-c188e0a6d4b9",
   "metadata": {},
   "outputs": [
    {
     "data": {
      "text/html": [
       "<div>\n",
       "<style scoped>\n",
       "    .dataframe tbody tr th:only-of-type {\n",
       "        vertical-align: middle;\n",
       "    }\n",
       "\n",
       "    .dataframe tbody tr th {\n",
       "        vertical-align: top;\n",
       "    }\n",
       "\n",
       "    .dataframe thead th {\n",
       "        text-align: right;\n",
       "    }\n",
       "</style>\n",
       "<table border=\"1\" class=\"dataframe\">\n",
       "  <thead>\n",
       "    <tr style=\"text-align: right;\">\n",
       "      <th></th>\n",
       "      <th>Title</th>\n",
       "      <th>URL</th>\n",
       "      <th>Image</th>\n",
       "      <th>Rating</th>\n",
       "    </tr>\n",
       "  </thead>\n",
       "  <tbody>\n",
       "    <tr>\n",
       "      <th>0</th>\n",
       "      <td>The Shawshank Redemption</td>\n",
       "      <td>https://www.imdb.com/title/tt0111161/</td>\n",
       "      <td>https://m.media-amazon.com/images/M/MV5BMDAyY2...</td>\n",
       "      <td>9.3</td>\n",
       "    </tr>\n",
       "    <tr>\n",
       "      <th>1</th>\n",
       "      <td>The Godfather</td>\n",
       "      <td>https://www.imdb.com/title/tt0068646/</td>\n",
       "      <td>https://m.media-amazon.com/images/M/MV5BZTg0Zj...</td>\n",
       "      <td>9.2</td>\n",
       "    </tr>\n",
       "    <tr>\n",
       "      <th>2</th>\n",
       "      <td>The Dark Knight</td>\n",
       "      <td>https://www.imdb.com/title/tt0468569/</td>\n",
       "      <td>https://m.media-amazon.com/images/M/MV5BMTMxNT...</td>\n",
       "      <td>9.1</td>\n",
       "    </tr>\n",
       "    <tr>\n",
       "      <th>3</th>\n",
       "      <td>The Godfather Part II</td>\n",
       "      <td>https://www.imdb.com/title/tt0071562/</td>\n",
       "      <td>https://m.media-amazon.com/images/M/MV5BNDNkZD...</td>\n",
       "      <td>9.0</td>\n",
       "    </tr>\n",
       "    <tr>\n",
       "      <th>4</th>\n",
       "      <td>12 Angry Men</td>\n",
       "      <td>https://www.imdb.com/title/tt0050083/</td>\n",
       "      <td>https://m.media-amazon.com/images/M/MV5BYjE4Nz...</td>\n",
       "      <td>9.0</td>\n",
       "    </tr>\n",
       "    <tr>\n",
       "      <th>5</th>\n",
       "      <td>The Lord of the Rings: The Return of the King</td>\n",
       "      <td>https://www.imdb.com/title/tt0167260/</td>\n",
       "      <td>https://m.media-amazon.com/images/M/MV5BMTZkMj...</td>\n",
       "      <td>9.0</td>\n",
       "    </tr>\n",
       "    <tr>\n",
       "      <th>6</th>\n",
       "      <td>Schindler&amp;apos;s List</td>\n",
       "      <td>https://www.imdb.com/title/tt0108052/</td>\n",
       "      <td>https://m.media-amazon.com/images/M/MV5BNjM1ZD...</td>\n",
       "      <td>9.0</td>\n",
       "    </tr>\n",
       "    <tr>\n",
       "      <th>7</th>\n",
       "      <td>The Lord of the Rings: The Fellowship of the Ring</td>\n",
       "      <td>https://www.imdb.com/title/tt0120737/</td>\n",
       "      <td>https://m.media-amazon.com/images/M/MV5BNzIxMD...</td>\n",
       "      <td>8.9</td>\n",
       "    </tr>\n",
       "    <tr>\n",
       "      <th>8</th>\n",
       "      <td>Pulp Fiction</td>\n",
       "      <td>https://www.imdb.com/title/tt0110912/</td>\n",
       "      <td>https://m.media-amazon.com/images/M/MV5BYTViYT...</td>\n",
       "      <td>8.8</td>\n",
       "    </tr>\n",
       "    <tr>\n",
       "      <th>9</th>\n",
       "      <td>Il buono, il brutto, il cattivo</td>\n",
       "      <td>https://www.imdb.com/title/tt0060196/</td>\n",
       "      <td>https://m.media-amazon.com/images/M/MV5BMWM5Zj...</td>\n",
       "      <td>8.8</td>\n",
       "    </tr>\n",
       "  </tbody>\n",
       "</table>\n",
       "</div>"
      ],
      "text/plain": [
       "                                               Title  \\\n",
       "0                           The Shawshank Redemption   \n",
       "1                                      The Godfather   \n",
       "2                                    The Dark Knight   \n",
       "3                              The Godfather Part II   \n",
       "4                                       12 Angry Men   \n",
       "5      The Lord of the Rings: The Return of the King   \n",
       "6                              Schindler&apos;s List   \n",
       "7  The Lord of the Rings: The Fellowship of the Ring   \n",
       "8                                       Pulp Fiction   \n",
       "9                    Il buono, il brutto, il cattivo   \n",
       "\n",
       "                                     URL  \\\n",
       "0  https://www.imdb.com/title/tt0111161/   \n",
       "1  https://www.imdb.com/title/tt0068646/   \n",
       "2  https://www.imdb.com/title/tt0468569/   \n",
       "3  https://www.imdb.com/title/tt0071562/   \n",
       "4  https://www.imdb.com/title/tt0050083/   \n",
       "5  https://www.imdb.com/title/tt0167260/   \n",
       "6  https://www.imdb.com/title/tt0108052/   \n",
       "7  https://www.imdb.com/title/tt0120737/   \n",
       "8  https://www.imdb.com/title/tt0110912/   \n",
       "9  https://www.imdb.com/title/tt0060196/   \n",
       "\n",
       "                                               Image  Rating  \n",
       "0  https://m.media-amazon.com/images/M/MV5BMDAyY2...     9.3  \n",
       "1  https://m.media-amazon.com/images/M/MV5BZTg0Zj...     9.2  \n",
       "2  https://m.media-amazon.com/images/M/MV5BMTMxNT...     9.1  \n",
       "3  https://m.media-amazon.com/images/M/MV5BNDNkZD...     9.0  \n",
       "4  https://m.media-amazon.com/images/M/MV5BYjE4Nz...     9.0  \n",
       "5  https://m.media-amazon.com/images/M/MV5BMTZkMj...     9.0  \n",
       "6  https://m.media-amazon.com/images/M/MV5BNjM1ZD...     9.0  \n",
       "7  https://m.media-amazon.com/images/M/MV5BNzIxMD...     8.9  \n",
       "8  https://m.media-amazon.com/images/M/MV5BYTViYT...     8.8  \n",
       "9  https://m.media-amazon.com/images/M/MV5BMWM5Zj...     8.8  "
      ]
     },
     "execution_count": 95,
     "metadata": {},
     "output_type": "execute_result"
    }
   ],
   "source": [
    "import json\n",
    "\n",
    "# find the JSON-LD script\n",
    "json_data = soup.find(\"script\", type=\"application/ld+json\").string\n",
    "\n",
    "# load it into Python\n",
    "data = json.loads(json_data)\n",
    "\n",
    "# Extract movies\n",
    "movies = data[\"itemListElement\"]\n",
    "\n",
    "movies_list = []\n",
    "for item in movies:\n",
    "    movie = item[\"item\"]\n",
    "    title = movie[\"name\"]\n",
    "    url = movie[\"url\"]\n",
    "    image = movie.get(\"image\", None)\n",
    "    \n",
    "    # Extract rating if available\n",
    "    rating = movie.get(\"aggregateRating\", {}).get(\"ratingValue\", None)\n",
    "    \n",
    "    movies_list.append([title, url, image, rating])\n",
    "\n",
    "# Convert to DataFrame\n",
    "df = pd.DataFrame(movies_list, columns=[\"Title\", \"URL\", \"Image\", \"Rating\"])\n",
    "df.head(10)"
   ]
  },
  {
   "cell_type": "code",
   "execution_count": 97,
   "id": "d6a81859-d1f5-4ad9-bf69-1c3cff44864a",
   "metadata": {},
   "outputs": [
    {
     "data": {
      "text/html": [
       "<style type=\"text/css\">\n",
       "</style>\n",
       "<table id=\"T_b5571\">\n",
       "  <thead>\n",
       "    <tr>\n",
       "      <th class=\"blank level0\" >&nbsp;</th>\n",
       "      <th id=\"T_b5571_level0_col0\" class=\"col_heading level0 col0\" >Title</th>\n",
       "      <th id=\"T_b5571_level0_col1\" class=\"col_heading level0 col1\" >URL</th>\n",
       "      <th id=\"T_b5571_level0_col2\" class=\"col_heading level0 col2\" >Image</th>\n",
       "      <th id=\"T_b5571_level0_col3\" class=\"col_heading level0 col3\" >Rating</th>\n",
       "    </tr>\n",
       "  </thead>\n",
       "  <tbody>\n",
       "    <tr>\n",
       "      <th id=\"T_b5571_level0_row0\" class=\"row_heading level0 row0\" >0</th>\n",
       "      <td id=\"T_b5571_row0_col0\" class=\"data row0 col0\" >The Shawshank Redemption</td>\n",
       "      <td id=\"T_b5571_row0_col1\" class=\"data row0 col1\" ><a href=\"https://www.imdb.com/title/tt0111161/\" target=\"_blank\">Link</a></td>\n",
       "      <td id=\"T_b5571_row0_col2\" class=\"data row0 col2\" ><img src=\"https://m.media-amazon.com/images/M/MV5BMDAyY2FhYjctNDc5OS00MDNlLThiMGUtY2UxYWVkNGY2ZjljXkEyXkFqcGc@._V1_.jpg\" width=\"80\"></td>\n",
       "      <td id=\"T_b5571_row0_col3\" class=\"data row0 col3\" >9.3</td>\n",
       "    </tr>\n",
       "    <tr>\n",
       "      <th id=\"T_b5571_level0_row1\" class=\"row_heading level0 row1\" >1</th>\n",
       "      <td id=\"T_b5571_row1_col0\" class=\"data row1 col0\" >The Godfather</td>\n",
       "      <td id=\"T_b5571_row1_col1\" class=\"data row1 col1\" ><a href=\"https://www.imdb.com/title/tt0068646/\" target=\"_blank\">Link</a></td>\n",
       "      <td id=\"T_b5571_row1_col2\" class=\"data row1 col2\" ><img src=\"https://m.media-amazon.com/images/M/MV5BZTg0ZjcwOGUtZGIyOS00YTFlLWI5ZWQtYjA2NDgxMWJhZmNjXkEyXkFqcGc@._V1_.jpg\" width=\"80\"></td>\n",
       "      <td id=\"T_b5571_row1_col3\" class=\"data row1 col3\" >9.2</td>\n",
       "    </tr>\n",
       "    <tr>\n",
       "      <th id=\"T_b5571_level0_row2\" class=\"row_heading level0 row2\" >2</th>\n",
       "      <td id=\"T_b5571_row2_col0\" class=\"data row2 col0\" >The Dark Knight</td>\n",
       "      <td id=\"T_b5571_row2_col1\" class=\"data row2 col1\" ><a href=\"https://www.imdb.com/title/tt0468569/\" target=\"_blank\">Link</a></td>\n",
       "      <td id=\"T_b5571_row2_col2\" class=\"data row2 col2\" ><img src=\"https://m.media-amazon.com/images/M/MV5BMTMxNTMwODM0NF5BMl5BanBnXkFtZTcwODAyMTk2Mw@@._V1_.jpg\" width=\"80\"></td>\n",
       "      <td id=\"T_b5571_row2_col3\" class=\"data row2 col3\" >9.1</td>\n",
       "    </tr>\n",
       "    <tr>\n",
       "      <th id=\"T_b5571_level0_row3\" class=\"row_heading level0 row3\" >3</th>\n",
       "      <td id=\"T_b5571_row3_col0\" class=\"data row3 col0\" >The Godfather Part II</td>\n",
       "      <td id=\"T_b5571_row3_col1\" class=\"data row3 col1\" ><a href=\"https://www.imdb.com/title/tt0071562/\" target=\"_blank\">Link</a></td>\n",
       "      <td id=\"T_b5571_row3_col2\" class=\"data row3 col2\" ><img src=\"https://m.media-amazon.com/images/M/MV5BNDNkZDI5ODctYmUzYy00MDhkLTg5OWMtYzdhMjU1NTRlNjUzXkEyXkFqcGc@._V1_.jpg\" width=\"80\"></td>\n",
       "      <td id=\"T_b5571_row3_col3\" class=\"data row3 col3\" >9.0</td>\n",
       "    </tr>\n",
       "    <tr>\n",
       "      <th id=\"T_b5571_level0_row4\" class=\"row_heading level0 row4\" >4</th>\n",
       "      <td id=\"T_b5571_row4_col0\" class=\"data row4 col0\" >12 Angry Men</td>\n",
       "      <td id=\"T_b5571_row4_col1\" class=\"data row4 col1\" ><a href=\"https://www.imdb.com/title/tt0050083/\" target=\"_blank\">Link</a></td>\n",
       "      <td id=\"T_b5571_row4_col2\" class=\"data row4 col2\" ><img src=\"https://m.media-amazon.com/images/M/MV5BYjE4NzdmOTYtYjc5Yi00YzBiLWEzNDEtNTgxZGQ2MWVkN2NiXkEyXkFqcGc@._V1_.jpg\" width=\"80\"></td>\n",
       "      <td id=\"T_b5571_row4_col3\" class=\"data row4 col3\" >9.0</td>\n",
       "    </tr>\n",
       "    <tr>\n",
       "      <th id=\"T_b5571_level0_row5\" class=\"row_heading level0 row5\" >5</th>\n",
       "      <td id=\"T_b5571_row5_col0\" class=\"data row5 col0\" >The Lord of the Rings: The Return of the King</td>\n",
       "      <td id=\"T_b5571_row5_col1\" class=\"data row5 col1\" ><a href=\"https://www.imdb.com/title/tt0167260/\" target=\"_blank\">Link</a></td>\n",
       "      <td id=\"T_b5571_row5_col2\" class=\"data row5 col2\" ><img src=\"https://m.media-amazon.com/images/M/MV5BMTZkMjBjNWMtZGI5OC00MGU0LTk4ZTItODg2NWM3NTVmNWQ4XkEyXkFqcGc@._V1_.jpg\" width=\"80\"></td>\n",
       "      <td id=\"T_b5571_row5_col3\" class=\"data row5 col3\" >9.0</td>\n",
       "    </tr>\n",
       "    <tr>\n",
       "      <th id=\"T_b5571_level0_row6\" class=\"row_heading level0 row6\" >6</th>\n",
       "      <td id=\"T_b5571_row6_col0\" class=\"data row6 col0\" >Schindler&apos;s List</td>\n",
       "      <td id=\"T_b5571_row6_col1\" class=\"data row6 col1\" ><a href=\"https://www.imdb.com/title/tt0108052/\" target=\"_blank\">Link</a></td>\n",
       "      <td id=\"T_b5571_row6_col2\" class=\"data row6 col2\" ><img src=\"https://m.media-amazon.com/images/M/MV5BNjM1ZDQxYWUtMzQyZS00MTE1LWJmZGYtNGUyNTdlYjM3ZmVmXkEyXkFqcGc@._V1_.jpg\" width=\"80\"></td>\n",
       "      <td id=\"T_b5571_row6_col3\" class=\"data row6 col3\" >9.0</td>\n",
       "    </tr>\n",
       "    <tr>\n",
       "      <th id=\"T_b5571_level0_row7\" class=\"row_heading level0 row7\" >7</th>\n",
       "      <td id=\"T_b5571_row7_col0\" class=\"data row7 col0\" >The Lord of the Rings: The Fellowship of the Ring</td>\n",
       "      <td id=\"T_b5571_row7_col1\" class=\"data row7 col1\" ><a href=\"https://www.imdb.com/title/tt0120737/\" target=\"_blank\">Link</a></td>\n",
       "      <td id=\"T_b5571_row7_col2\" class=\"data row7 col2\" ><img src=\"https://m.media-amazon.com/images/M/MV5BNzIxMDQ2YTctNDY4MC00ZTRhLTk4ODQtMTVlOWY4NTdiYmMwXkEyXkFqcGc@._V1_.jpg\" width=\"80\"></td>\n",
       "      <td id=\"T_b5571_row7_col3\" class=\"data row7 col3\" >8.9</td>\n",
       "    </tr>\n",
       "    <tr>\n",
       "      <th id=\"T_b5571_level0_row8\" class=\"row_heading level0 row8\" >8</th>\n",
       "      <td id=\"T_b5571_row8_col0\" class=\"data row8 col0\" >Pulp Fiction</td>\n",
       "      <td id=\"T_b5571_row8_col1\" class=\"data row8 col1\" ><a href=\"https://www.imdb.com/title/tt0110912/\" target=\"_blank\">Link</a></td>\n",
       "      <td id=\"T_b5571_row8_col2\" class=\"data row8 col2\" ><img src=\"https://m.media-amazon.com/images/M/MV5BYTViYTE3ZGQtNDBlMC00ZTAyLTkyODMtZGRiZDg0MjA2YThkXkEyXkFqcGc@._V1_.jpg\" width=\"80\"></td>\n",
       "      <td id=\"T_b5571_row8_col3\" class=\"data row8 col3\" >8.8</td>\n",
       "    </tr>\n",
       "    <tr>\n",
       "      <th id=\"T_b5571_level0_row9\" class=\"row_heading level0 row9\" >9</th>\n",
       "      <td id=\"T_b5571_row9_col0\" class=\"data row9 col0\" >Il buono, il brutto, il cattivo</td>\n",
       "      <td id=\"T_b5571_row9_col1\" class=\"data row9 col1\" ><a href=\"https://www.imdb.com/title/tt0060196/\" target=\"_blank\">Link</a></td>\n",
       "      <td id=\"T_b5571_row9_col2\" class=\"data row9 col2\" ><img src=\"https://m.media-amazon.com/images/M/MV5BMWM5ZjQxM2YtNDlmYi00ZDNhLWI4MWUtN2VkYjBlMTY1ZTkwXkEyXkFqcGc@._V1_.jpg\" width=\"80\"></td>\n",
       "      <td id=\"T_b5571_row9_col3\" class=\"data row9 col3\" >8.8</td>\n",
       "    </tr>\n",
       "  </tbody>\n",
       "</table>\n"
      ],
      "text/plain": [
       "<pandas.io.formats.style.Styler at 0x26edff016a0>"
      ]
     },
     "execution_count": 97,
     "metadata": {},
     "output_type": "execute_result"
    }
   ],
   "source": [
    "def make_clickable(val):\n",
    "    return f'<a href=\"{val}\" target=\"_blank\">Link</a>'\n",
    "\n",
    "def make_image(val):\n",
    "    return f'<img src=\"{val}\" width=\"80\">'\n",
    "\n",
    "styled_df = df.head(10).style.format({\n",
    "    \"URL\": make_clickable,\n",
    "    \"Image\": make_image,\n",
    "    \"Rating\": \"{:.1f}\"\n",
    "})\n",
    "styled_df"
   ]
  }
 ],
 "metadata": {
  "kernelspec": {
   "display_name": "Python [conda env:base] *",
   "language": "python",
   "name": "conda-base-py"
  },
  "language_info": {
   "codemirror_mode": {
    "name": "ipython",
    "version": 3
   },
   "file_extension": ".py",
   "mimetype": "text/x-python",
   "name": "python",
   "nbconvert_exporter": "python",
   "pygments_lexer": "ipython3",
   "version": "3.12.7"
  }
 },
 "nbformat": 4,
 "nbformat_minor": 5
}
