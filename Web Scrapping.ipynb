{
 "cells": [
  {
   "cell_type": "code",
   "execution_count": 67,
   "id": "3def9f19-00a5-4c08-be65-439a7d3559a5",
   "metadata": {},
   "outputs": [
    {
     "name": "stdout",
     "output_type": "stream",
     "text": [
      "Requirement already satisfied: requests in c:\\users\\hp\\anaconda3\\lib\\site-packages (2.32.3)Note: you may need to restart the kernel to use updated packages.\n",
      "\n",
      "Requirement already satisfied: beautifulsoup4 in c:\\users\\hp\\anaconda3\\lib\\site-packages (4.12.3)\n",
      "Requirement already satisfied: pandas in c:\\users\\hp\\anaconda3\\lib\\site-packages (2.2.2)\n",
      "Requirement already satisfied: charset-normalizer<4,>=2 in c:\\users\\hp\\anaconda3\\lib\\site-packages (from requests) (3.3.2)\n",
      "Requirement already satisfied: idna<4,>=2.5 in c:\\users\\hp\\anaconda3\\lib\\site-packages (from requests) (3.7)\n",
      "Requirement already satisfied: urllib3<3,>=1.21.1 in c:\\users\\hp\\anaconda3\\lib\\site-packages (from requests) (2.5.0)\n",
      "Requirement already satisfied: certifi>=2017.4.17 in c:\\users\\hp\\anaconda3\\lib\\site-packages (from requests) (2025.8.3)\n",
      "Requirement already satisfied: soupsieve>1.2 in c:\\users\\hp\\anaconda3\\lib\\site-packages (from beautifulsoup4) (2.5)\n",
      "Requirement already satisfied: numpy>=1.26.0 in c:\\users\\hp\\anaconda3\\lib\\site-packages (from pandas) (1.26.4)\n",
      "Requirement already satisfied: python-dateutil>=2.8.2 in c:\\users\\hp\\anaconda3\\lib\\site-packages (from pandas) (2.9.0.post0)\n",
      "Requirement already satisfied: pytz>=2020.1 in c:\\users\\hp\\anaconda3\\lib\\site-packages (from pandas) (2024.1)\n",
      "Requirement already satisfied: tzdata>=2022.7 in c:\\users\\hp\\anaconda3\\lib\\site-packages (from pandas) (2023.3)\n",
      "Requirement already satisfied: six>=1.5 in c:\\users\\hp\\anaconda3\\lib\\site-packages (from python-dateutil>=2.8.2->pandas) (1.16.0)\n"
     ]
    }
   ],
   "source": [
    "pip install requests beautifulsoup4 pandas"
   ]
  },
  {
   "cell_type": "code",
   "execution_count": 69,
   "id": "fdb453cc-8d49-43b4-81bf-f36f0cd86c83",
   "metadata": {},
   "outputs": [],
   "source": [
    "import requests\n",
    "from bs4 import BeautifulSoup\n",
    "import pandas as pd"
   ]
  },
  {
   "cell_type": "code",
   "execution_count": 73,
   "id": "c758125e-348b-45ef-82ea-31282b865b56",
   "metadata": {},
   "outputs": [
    {
     "name": "stdout",
     "output_type": "stream",
     "text": [
      "Status Code: 403\n"
     ]
    }
   ],
   "source": [
    "url = \"https://www.imdb.com/chart/top/\"\n",
    "response = requests.get(url)\n",
    "\n",
    "# Check status\n",
    "print(\"Status Code:\", response.status_code)"
   ]
  },
  {
   "cell_type": "code",
   "execution_count": 75,
   "id": "4bf0c703-3000-41d0-aea3-7b6f317c80cc",
   "metadata": {},
   "outputs": [
    {
     "name": "stdout",
     "output_type": "stream",
     "text": [
      "Status Code: 200\n"
     ]
    }
   ],
   "source": [
    "url = \"https://www.imdb.com/chart/top/\"\n",
    "\n",
    "headers = {\n",
    "    \"User-Agent\": \"Mozilla/5.0 (Windows NT 10.0; Win64; x64) AppleWebKit/537.36 (KHTML, like Gecko) Chrome/120.0.0.0 Safari/537.36\"\n",
    "}\n",
    "\n",
    "response = requests.get(url, headers=headers)\n",
    "\n",
    "print(\"Status Code:\", response.status_code)"
   ]
  },
  {
   "cell_type": "code",
   "execution_count": 77,
   "id": "37f44062-dc96-461b-8623-d973ec5cfd19",
   "metadata": {},
   "outputs": [
    {
     "name": "stdout",
     "output_type": "stream",
     "text": [
      "IMDb Top 250 movies\n"
     ]
    }
   ],
   "source": [
    "soup = BeautifulSoup(response.text, \"html.parser\")\n",
    "\n",
    "# Just to check, print the page title\n",
    "print(soup.title.text)"
   ]
  },
  {
   "cell_type": "code",
   "execution_count": 79,
   "id": "8cefef46-d836-468f-ae9b-eb820d791454",
   "metadata": {},
   "outputs": [
    {
     "name": "stdout",
     "output_type": "stream",
     "text": [
      "Total movies found: 0\n",
      "[]\n"
     ]
    }
   ],
   "source": [
    "movies = soup.select(\"td.titleColumn\")\n",
    "ratings = soup.select(\"td.imdbRating strong\")\n",
    "\n",
    "data = []\n",
    "for movie, rating in zip(movies, ratings):\n",
    "    title = movie.a.text\n",
    "    year = movie.span.text.strip(\"()\")\n",
    "    rating = rating.text\n",
    "    data.append([title, year, rating])\n",
    "\n",
    "print(\"Total movies found:\", len(data))\n",
    "print(data[:5])  # show first 5 movies"
   ]
  },
  {
   "cell_type": "code",
   "execution_count": 81,
   "id": "2cf29578-35d4-4fc8-9e63-1be9a142ed36",
   "metadata": {},
   "outputs": [
    {
     "name": "stdout",
     "output_type": "stream",
     "text": [
      "<!DOCTYPE html>\n",
      "<html lang=\"en-US\" xmlns:fb=\"http://www.facebook.com/2008/fbml\" xmlns:og=\"http://opengraphprotocol.org/schema/\">\n",
      " <head>\n",
      "  <meta charset=\"utf-8\"/>\n",
      "  <meta content=\"width=device-width\" name=\"viewport\"/>\n",
      "  <script>\n",
      "   if(typeof uet === 'function'){ uet('bb', 'LoadTitle', {wb: 1}); }\n",
      "  </script>\n",
      "  <script>\n",
      "   window.addEventListener('load', (event) => {\n",
      "        if (typeof window.csa !== 'undefined' && typeof window.csa === 'function') {\n",
      "            var csaLatencyPlugin = window.csa('Content', {\n",
      "                element: {\n",
      "                    slotId: 'LoadTitle',\n",
      "                    type: 'service-call'\n",
      "                }\n",
      "            });\n",
      "            csaLatencyPlugin('mark', 'clickToBodyBegin', 1759218397900);\n",
      "        }\n",
      "    })\n",
      "  </script>\n",
      "  <title>\n",
      "   IMDb Top 250 movies\n",
      "  </title>\n",
      "  <meta content=\"As rated by regular IMDb voters.\" data-id=\"main\" name=\"description\"/>\n",
      "  <meta content=\"0cadf7898134e79b\" name=\"google-site-verification\"/>\n",
      "  <meta content=\"C1DACEF2769068C0B0D2687C9E5105FA\" name=\"msvalidate.01\"/>\n",
      "  <meta content=\"max-image-preview:large\" name=\"robots\"/>\n",
      "  <script type=\"application/ld+json\">\n",
      "   {\"@type\":\"ItemList\",\"itemListElement\":[{\"@type\":\"ListItem\",\"item\":{\"@type\":\"Movie\",\"url\":\"https://www.imdb.com/title/tt0111161/\",\"name\":\"The Shawshank Redemption\",\"description\":\"A banker convicted of uxoricide forms a friendship over a quarter century with a hardened convict, while maintaining his innocence and trying to remain hopeful through simple compassion.\",\"image\":\"https://m.media-amazon.com/images/M/MV5BMDAyY2FhYjctNDc5OS00MDNlLThiMGUtY2UxYWVkNGY2ZjljXkEyXkFqcGc@._V1_.jpg\",\"aggregateRating\":{\"@type\":\"AggregateRating\",\"bestRating\":10,\"worstRating\":1,\"ratingValue\":9.3,\"ratingCount\":3103969},\"contentRating\":\"A\",\"genre\":\"Drama\",\"duration\":\"PT2H22M\"}},{\"@type\":\"ListItem\",\"item\":{\"@type\":\"Movie\",\"url\":\"https://www.imdb.com/title/tt0068646/\",\"name\":\"The Godfather\",\"description\":\"The aging patriarch of an organized crime dynasty transfers control of his cla\n"
     ]
    }
   ],
   "source": [
    "print(soup.prettify()[:2000])  # show first 2000 characters of HTML"
   ]
  },
  {
   "cell_type": "code",
   "execution_count": 87,
   "id": "a69ee1c5-2c35-4f36-93bd-c188e0a6d4b9",
   "metadata": {},
   "outputs": [
    {
     "name": "stdout",
     "output_type": "stream",
     "text": [
      "Total movies found: 250\n",
      "[['The Shawshank Redemption', 'https://www.imdb.com/title/tt0111161/'], ['The Godfather', 'https://www.imdb.com/title/tt0068646/'], ['The Dark Knight', 'https://www.imdb.com/title/tt0468569/'], ['The Godfather Part II', 'https://www.imdb.com/title/tt0071562/'], ['12 Angry Men', 'https://www.imdb.com/title/tt0050083/']]\n"
     ]
    }
   ],
   "source": [
    "import json\n",
    "\n",
    "# find the JSON-LD script\n",
    "json_data = soup.find(\"script\", type=\"application/ld+json\").string\n",
    "\n",
    "# load it into Python\n",
    "data = json.loads(json_data)\n",
    "\n",
    "# Extract movies\n",
    "movies = data[\"itemListElement\"]\n",
    "\n",
    "movies_list = []\n",
    "for item in movies:\n",
    "    movie = item[\"item\"]\n",
    "    title = movie[\"name\"]\n",
    "    url = movie[\"url\"]\n",
    "    movies_list.append([title, url])\n",
    "\n",
    "print(\"Total movies found:\", len(movies_list))\n",
    "print(movies_list[:5])"
   ]
  }
 ],
 "metadata": {
  "kernelspec": {
   "display_name": "Python [conda env:base] *",
   "language": "python",
   "name": "conda-base-py"
  },
  "language_info": {
   "codemirror_mode": {
    "name": "ipython",
    "version": 3
   },
   "file_extension": ".py",
   "mimetype": "text/x-python",
   "name": "python",
   "nbconvert_exporter": "python",
   "pygments_lexer": "ipython3",
   "version": "3.12.7"
  }
 },
 "nbformat": 4,
 "nbformat_minor": 5
}
